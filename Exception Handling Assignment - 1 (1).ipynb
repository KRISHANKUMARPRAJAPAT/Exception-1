{
 "cells": [
  {
   "cell_type": "markdown",
   "id": "405ea9b5-85e0-441e-a749-8b44797ea5ec",
   "metadata": {},
   "source": [
    "# Q1. What is an Exception in python? Write the difference between Exceptions and Syntax errors."
   ]
  },
  {
   "cell_type": "markdown",
   "id": "5232c002-7d59-4f03-9ef9-982eedf4c408",
   "metadata": {},
   "source": [
    "# Ans: 1\n",
    "In Python, an exception is a type of error that occurs during the execution of a program. When an exception occurs, it interrupts the normal flow of the program and can cause the program to terminate if it is not handled properly.\n",
    "\n",
    "**Difference between Exceptions and Syntax errors:**\n",
    "\n",
    "The main difference between exceptions and syntax errors in Python is that syntax errors are errors in the structure of the code that prevent it from being compiled, while exceptions are errors that occur during the execution of a program when something unexpected happens.\n",
    "\n",
    "- **Syntax error:**\n",
    "Syntax errors occur when the Python interpreter encounters code that is not valid Python syntax. These errors prevent the code from being compiled and the program from being run. Some common examples of syntax errors include missing parentheses, unmatched quotes, and invalid keywords.\n",
    "\n",
    "- **Exceptions errors:** \n",
    "Exceptions, on the other hand, occur during the execution of a program when something unexpected happens, such as trying to divide by zero, accessing an invalid index in a list, or opening a file that does not exist. Exceptions can be caused by a wide variety of factors, including user input, network issues, or programming errors."
   ]
  },
  {
   "cell_type": "code",
   "execution_count": null,
   "id": "daab773f-6719-4df0-b548-a48a895968dc",
   "metadata": {},
   "outputs": [],
   "source": []
  },
  {
   "cell_type": "markdown",
   "id": "0fdc3536-6760-4d1a-a141-fc28a556e565",
   "metadata": {},
   "source": [
    "# Q2. What happens when an exception is not handled? Explain with an example."
   ]
  },
  {
   "cell_type": "markdown",
   "id": "5e01eb35-cdc3-4455-930f-b37e5acab445",
   "metadata": {},
   "source": [
    "# Ans: 2\n",
    "When a exception is not handled in a Python program, it will cause the program to terminate and display an error message indicating the type of exception and where it occurred in the code. This can make it difficult to determine the cause of the error and fix the problem.\n",
    "\n",
    "To handle this exception and prevent the program from terminating, we can wrap the code that might raise the exception in a try-except block like this"
   ]
  },
  {
   "cell_type": "code",
   "execution_count": 1,
   "id": "0e8bfcfc-9afd-4c03-a60b-098cc4022036",
   "metadata": {},
   "outputs": [],
   "source": [
    "import logging\n",
    "logging.basicConfig(filename = 'Exception_error.file' , level = logging.ERROR)\n",
    "\n",
    "try :\n",
    "    with open('krish.txt', 'w') as f:\n",
    "        f.write(\"there are 345 students in data science master program\")\n",
    "except FileNotFoundError  as e :\n",
    "    logging.error('FileNotFoundError {}'.format(e))"
   ]
  },
  {
   "cell_type": "code",
   "execution_count": null,
   "id": "52e905e5-b42d-4112-a632-b9f07b3a1beb",
   "metadata": {},
   "outputs": [],
   "source": []
  },
  {
   "cell_type": "markdown",
   "id": "53f5f52e-c696-4300-a4de-dc56490fb76b",
   "metadata": {},
   "source": [
    "# Q3. Which python statements are used to catch and handle exceptions? Explain with an example."
   ]
  },
  {
   "cell_type": "markdown",
   "id": "c5422c20-31a3-4b6b-a881-5c3e35810189",
   "metadata": {},
   "source": [
    "# Ans: 3\n",
    "In Python, the 'try' and 'except' statements are used to catch and handle exceptions. The 'try' statement contains the code that might raise an exception, while the 'except' statement contains the code to handle the exception if it occurs."
   ]
  },
  {
   "cell_type": "code",
   "execution_count": 2,
   "id": "e3a1a862-2756-4557-be24-7e46ce716d14",
   "metadata": {},
   "outputs": [],
   "source": [
    "#Here is an example:\n",
    "try :\n",
    "    d = {'key1' : 'ramlal', 'pass' : [1,2,3,4]}\n",
    "    logging.info(d[12])\n",
    "    \n",
    "except KeyError as e :\n",
    "    logging.error('In the code we found KeyError {}'.format(e))"
   ]
  },
  {
   "cell_type": "code",
   "execution_count": null,
   "id": "a65b26d9-4bdc-4746-8f30-22b73ff2520a",
   "metadata": {},
   "outputs": [],
   "source": []
  },
  {
   "cell_type": "markdown",
   "id": "fe001fd8-e799-44d8-8387-9f218a290532",
   "metadata": {},
   "source": [
    "# Q4. Explain with an example:\n",
    "           A. try and else\n",
    "           B. finally \n",
    "           C. raise"
   ]
  },
  {
   "cell_type": "markdown",
   "id": "b936980b-ce7e-4b53-9caa-93816f9d1ca5",
   "metadata": {},
   "source": [
    "# Ans: 4\n",
    "- **(A) try and else:**\n",
    "\n",
    "The try and else statements in Python are used to handle exceptions that may occur in a block of code. The try block contains the code that is to be executed and the else block contains the code that is executed if the try block is executed without any exceptions being raised."
   ]
  },
  {
   "cell_type": "code",
   "execution_count": 4,
   "id": "1ddaa0fc-489b-4668-8a0d-a3e027ff5741",
   "metadata": {},
   "outputs": [
    {
     "name": "stdin",
     "output_type": "stream",
     "text": [
      "Enter a number:  25\n",
      "Enter another number:  5\n"
     ]
    },
    {
     "name": "stdout",
     "output_type": "stream",
     "text": [
      "Result is: 5.0\n"
     ]
    }
   ],
   "source": [
    "try:\n",
    "    x = int(input('Enter a number: '))\n",
    "    y = int(input('Enter another number: '))\n",
    "    result = x / y\n",
    "except ValueError:\n",
    "    print('Invalid input, please enter a number.')\n",
    "else:\n",
    "    print('Result is:', result)"
   ]
  },
  {
   "cell_type": "code",
   "execution_count": null,
   "id": "575dc4ff-a3ef-4f3c-9e03-7cb54bfd0b30",
   "metadata": {},
   "outputs": [],
   "source": []
  },
  {
   "cell_type": "markdown",
   "id": "7e5d3f01-f2c4-402f-8046-873eebd027ac",
   "metadata": {},
   "source": [
    "- **(B)finally:**\n",
    "\n",
    "finally block is used in conjunction with the try block to define a block of code that will be executed regardless of whether an exception is raised or not. The finally block is typically used to perform cleanup actions, such as closing a file or a database connection, that should always be done, regardless of whether an exception occurred or not."
   ]
  },
  {
   "cell_type": "code",
   "execution_count": 5,
   "id": "c151dd6e-36d8-4d02-b810-ddfc9378ee3a",
   "metadata": {},
   "outputs": [
    {
     "name": "stdout",
     "output_type": "stream",
     "text": [
      "Finally block executed.\n"
     ]
    }
   ],
   "source": [
    "try:\n",
    "    a = 5 / 2\n",
    "except ZeroDivisionError:\n",
    "    print(\"Cannot divide by zero.\")\n",
    "finally:\n",
    "    print(\"Finally block executed.\")"
   ]
  },
  {
   "cell_type": "markdown",
   "id": "b405ff0f-661f-4c4c-b823-0de266709eaa",
   "metadata": {},
   "source": [
    "- **(C)raise:**\n",
    "\n",
    "the 'raise' keyword is a useful tool for raising exceptions manually when needed, allowing for more fine-grained control over error handling and providing more information about the nature of the error."
   ]
  },
  {
   "cell_type": "code",
   "execution_count": 6,
   "id": "54173117-1458-429b-878b-55d99cb23460",
   "metadata": {},
   "outputs": [
    {
     "name": "stdout",
     "output_type": "stream",
     "text": [
      "Cannot divide by zero.\n"
     ]
    }
   ],
   "source": [
    "def divide(a, b):\n",
    "    if b == 0:\n",
    "        raise ZeroDivisionError(\"Cannot divide by zero.\")\n",
    "    return a / b\n",
    "\n",
    "try:\n",
    "    result = divide(10, 0)\n",
    "except ZeroDivisionError as e:\n",
    "    print(e)"
   ]
  },
  {
   "cell_type": "code",
   "execution_count": null,
   "id": "36b0ad1a-7590-4aa0-a84b-496c4069872c",
   "metadata": {},
   "outputs": [],
   "source": []
  },
  {
   "cell_type": "markdown",
   "id": "84ad7daa-62e8-469e-aafb-693a37795091",
   "metadata": {},
   "source": [
    "# Q5. What are Custom Exceptions in python? Why do we need Custom Exceptions? Explain with an example."
   ]
  },
  {
   "cell_type": "markdown",
   "id": "0ce25f0d-b6de-4257-8303-f17b9c2c0df0",
   "metadata": {},
   "source": [
    "# Ans: 5\n",
    "custom exceptions provide a way to handle errors in a more targeted and meaningful way. By defining your own exceptions, you can provide more specific error messages, handle errors more effectively, and make your code more readable and maintainable\n",
    "\n",
    "Custom exceptions can be useful for several reasons:\n",
    "\n",
    "- **Provide more specific error messages:**\n",
    "By creating a custom exception, you can provide more specific and meaningful error messages to users or developers. This can help them understand what went wrong and how to fix it.\n",
    "\n",
    "- **Handle errors more effectively:**\n",
    "Custom exceptions can help you handle errors more effectively by allowing you to catch and handle specific types of errors. This can help you recover from errors more gracefully and provide a better user experience.\n",
    "\n",
    "- **Make code more readable and maintainable:**\n",
    "By defining custom exceptions, you can make your code more readable and maintainable. You can use the custom exceptions in your code to provide more meaningful and descriptive error messages, making it easier for others to understand and work with your code."
   ]
  },
  {
   "cell_type": "code",
   "execution_count": 7,
   "id": "cdd52f1b-2657-4065-94e2-6d7745ac30e9",
   "metadata": {},
   "outputs": [],
   "source": [
    "class CustomException(Exception):\n",
    "    def __init__(self, message):\n",
    "        super().__init__(message)\n",
    "        self.message = message"
   ]
  },
  {
   "cell_type": "code",
   "execution_count": null,
   "id": "489b4f9f-3171-421c-b923-14a7eddc1859",
   "metadata": {},
   "outputs": [],
   "source": []
  },
  {
   "cell_type": "markdown",
   "id": "f473d973-5ba6-4d25-b6aa-c897695b3d42",
   "metadata": {},
   "source": [
    "# Q6. Create a custom exception class. Use this class to handle an exception."
   ]
  },
  {
   "cell_type": "markdown",
   "id": "ee8f62c9-ee76-438f-b4b3-270877aa6018",
   "metadata": {},
   "source": [
    "# Ans: 6"
   ]
  },
  {
   "cell_type": "code",
   "execution_count": 11,
   "id": "ff59185b-f3e5-4e48-8312-59fb5eb9d1e8",
   "metadata": {},
   "outputs": [
    {
     "name": "stdin",
     "output_type": "stream",
     "text": [
      "Enter your price 45000\n"
     ]
    },
    {
     "name": "stdout",
     "output_type": "stream",
     "text": [
      "For Midrange Smartphone your price is perfectly fine\n"
     ]
    }
   ],
   "source": [
    "def Mobile_price(price):\n",
    "    if price < 5000 :\n",
    "        raise Mob_purchase(\"For Midrange Smartphone your price is very very low\")\n",
    "        \n",
    "    elif price >= 50000 :\n",
    "        raise Mob_purchase(\"For Midrange Smartphone your price is very very high\")\n",
    "    else :\n",
    "        print(\"For Midrange Smartphone your price is perfectly fine\")\n",
    "try :\n",
    "    price = int(input(\"Enter your price\"))\n",
    "    Mobile_price(price)\n",
    "    \n",
    "except Mob_purchase as e :\n",
    "    print(e)"
   ]
  },
  {
   "cell_type": "code",
   "execution_count": null,
   "id": "e0c002f0-d58f-4645-9cfd-7fd873c035aa",
   "metadata": {},
   "outputs": [],
   "source": []
  },
  {
   "cell_type": "code",
   "execution_count": null,
   "id": "f285d3c2-798c-49be-8cc7-1947c93c604f",
   "metadata": {},
   "outputs": [],
   "source": []
  },
  {
   "cell_type": "code",
   "execution_count": null,
   "id": "a61179a7-9815-49c6-8290-084d678ff17b",
   "metadata": {},
   "outputs": [],
   "source": []
  }
 ],
 "metadata": {
  "kernelspec": {
   "display_name": "Python 3 (ipykernel)",
   "language": "python",
   "name": "python3"
  },
  "language_info": {
   "codemirror_mode": {
    "name": "ipython",
    "version": 3
   },
   "file_extension": ".py",
   "mimetype": "text/x-python",
   "name": "python",
   "nbconvert_exporter": "python",
   "pygments_lexer": "ipython3",
   "version": "3.10.8"
  }
 },
 "nbformat": 4,
 "nbformat_minor": 5
}
